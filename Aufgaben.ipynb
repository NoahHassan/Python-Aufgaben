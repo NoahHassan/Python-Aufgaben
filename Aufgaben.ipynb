{
 "cells": [
  {
   "cell_type": "markdown",
   "metadata": {},
   "source": [
    "# Python Aufgaben\n",
    "Hier findet ihr eine Sammlung von Aufgaben verschiedener Schwierigkeitsgrade (+) bis (+++++). Wir haben diese Sammlung zusammengestellt, da wir der Meinung sind, dass es nicht möglich ist innerhalb von ein paar Wochen den Stoffumfang den wir euch bieten zu festigen. Daher empfehlen wir euch sehr, diese Aufgabne zu lösen. Lasst euch dabei ruhig so viel Zeit wie nötig. Ziel ist es den Stoff langzeitig zu festigen."
   ]
  },
  {
   "cell_type": "code",
   "execution_count": null,
   "metadata": {},
   "outputs": [],
   "source": []
  }
 ],
 "metadata": {
  "interpreter": {
   "hash": "b14fc47abcdbddb83932729163b225e5257b857deb6c2501cb351c70e64caa6f"
  },
  "kernelspec": {
   "display_name": "Python 3.8.8 ('base')",
   "language": "python",
   "name": "python3"
  },
  "language_info": {
   "codemirror_mode": {
    "name": "ipython",
    "version": 3
   },
   "file_extension": ".py",
   "mimetype": "text/x-python",
   "name": "python",
   "nbconvert_exporter": "python",
   "pygments_lexer": "ipython3",
   "version": "3.8.8"
  },
  "orig_nbformat": 4
 },
 "nbformat": 4,
 "nbformat_minor": 2
}
