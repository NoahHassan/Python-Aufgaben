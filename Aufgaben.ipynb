{
 "cells": [
  {
   "cell_type": "markdown",
   "metadata": {},
   "source": [
    "# Python Aufgaben\n",
    "Hier findet ihr eine Sammlung von Aufgaben verschiedener Schwierigkeitsgrade (+) bis (+++++). Wir haben diese Sammlung zusammengestellt, da wir der Meinung sind, dass es nicht möglich ist innerhalb von ein paar Wochen den Stoffumfang den wir euch bieten zu festigen. Daher empfehlen wir euch sehr, diese Aufgabne zu lösen. Lasst euch dabei ruhig so viel Zeit wie nötig. Ziel ist es den Stoff langzeitig zu festigen."
   ]
  },
  {
   "cell_type": "markdown",
   "metadata": {},
   "source": [
    "## Aufgabe 1 (+)\n",
    "Der folgende Code funktioniert nicht. Schau dir die Fehlermeldung an und bring ihn zum laufen."
   ]
  },
  {
   "cell_type": "code",
   "execution_count": null,
   "metadata": {},
   "outputs": [],
   "source": [
    "#### Lösung hier ####\n",
    "\n",
    "#### Lösung hier ####"
   ]
  },
  {
   "cell_type": "code",
   "execution_count": null,
   "metadata": {},
   "outputs": [],
   "source": [
    "x = np.linspace(-1,1)\n",
    "y = x**2\n",
    "\n",
    "plt.plot(x,y)"
   ]
  },
  {
   "cell_type": "markdown",
   "metadata": {},
   "source": [
    "## Aufgabe 2 (+)\n",
    "Schreibe ein kleines Programm, dass den Nutzer nach seinem Namen fragt und ihn anschließend grüßt, d.h. in etwa so:\n",
    "    Hallo. Wie heißt du?\n",
    "    (Hier Name eingeben)\n",
    "    Hallo (Name)! Schön dich kennenzulernen."
   ]
  },
  {
   "cell_type": "code",
   "execution_count": null,
   "metadata": {},
   "outputs": [],
   "source": [
    "### Lösung hier ###\n",
    "\n",
    "### Lösung hier ###"
   ]
  },
  {
   "cell_type": "markdown",
   "metadata": {},
   "source": [
    "## Aufgabe 3 (+)\n",
    "Gebe von jedem der folgenden Strings den dritten Buchstaben aus. Gebe anschließend einen String aus, der alle dritten Buchstaben beinhaltet, z.b. \"Peter\", \"Ulrich\", \"Frank\", \"Günther\" --> 't', 'r', 'a', 'n' --> \"tran\""
   ]
  },
  {
   "cell_type": "code",
   "execution_count": 7,
   "metadata": {},
   "outputs": [],
   "source": [
    "name1 = \"Frank\"\n",
    "name2 = \"André\"\n",
    "name3 = \"Ana\"\n",
    "name4 = \"Emma\"\n",
    "\n",
    "#### Lösung hier ####\n",
    "\n",
    "#### Lösung hier ####"
   ]
  },
  {
   "cell_type": "markdown",
   "metadata": {},
   "source": [
    "## Aufgabe 4 (++)\n",
    "Versuche erneut den kombinierten String (\"adam\") auszugeben. Diesmal darfst du aber maximal zwei Zeilen schreiben (Himweis: Hier müsst ihr eine for - Schleife benutzen. Außerdem werdet ihr ein zusätzliches Argument in der print-Funktion setzen müssen)"
   ]
  },
  {
   "cell_type": "code",
   "execution_count": 11,
   "metadata": {},
   "outputs": [],
   "source": [
    "names = [name1, name2, name3, name4]\n",
    "\n",
    "#### Lösung hier ####\n",
    "\n",
    "#### Lösugn hier ####"
   ]
  }
 ],
 "metadata": {
  "interpreter": {
   "hash": "b14fc47abcdbddb83932729163b225e5257b857deb6c2501cb351c70e64caa6f"
  },
  "kernelspec": {
   "display_name": "Python 3.8.8 ('base')",
   "language": "python",
   "name": "python3"
  },
  "language_info": {
   "codemirror_mode": {
    "name": "ipython",
    "version": 3
   },
   "file_extension": ".py",
   "mimetype": "text/x-python",
   "name": "python",
   "nbconvert_exporter": "python",
   "pygments_lexer": "ipython3",
   "version": "3.8.8"
  },
  "orig_nbformat": 4
 },
 "nbformat": 4,
 "nbformat_minor": 2
}
