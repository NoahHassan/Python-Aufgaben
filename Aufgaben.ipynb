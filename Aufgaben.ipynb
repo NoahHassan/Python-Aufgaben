{
 "cells": [
  {
   "cell_type": "markdown",
   "metadata": {},
   "source": [
    "# Python Aufgaben\n",
    "Hier findet ihr eine Sammlung von Aufgaben verschiedener Schwierigkeitsgrade (+) bis (+++++). Wir haben diese Sammlung zusammengestellt, da wir der Meinung sind, dass es nicht möglich ist innerhalb von ein paar Wochen den Stoffumfang den wir euch bieten zu festigen. Daher empfehlen wir euch sehr, diese Aufgabne zu lösen. Lasst euch dabei ruhig so viel Zeit wie nötig. Ziel ist es den Stoff langzeitig zu festigen."
   ]
  },
  {
   "cell_type": "markdown",
   "metadata": {},
   "source": [
    "## Aufgabe 1 (+)\n",
    "Der folgende Code funktioniert nicht. Schau dir die Fehlermeldung an und bring ihn zum laufen."
   ]
  },
  {
   "cell_type": "code",
   "execution_count": null,
   "metadata": {},
   "outputs": [],
   "source": [
    "#### Lösung hier ####\n",
    "\n",
    "#### Lösung hier ####"
   ]
  },
  {
   "cell_type": "code",
   "execution_count": null,
   "metadata": {},
   "outputs": [],
   "source": [
    "x = np.linspace(-1,1)\n",
    "y = x**2\n",
    "\n",
    "plt.plot(x,y)"
   ]
  },
  {
   "cell_type": "markdown",
   "metadata": {},
   "source": [
    "## Aufgabe 2 (+)\n",
    "Schreibe ein kleines Programm, dass den Nutzer nach seinem Namen fragt und ihn anschließend grüßt, d.h. in etwa so:\n",
    "    Hallo. Wie heißt du?\n",
    "    (Hier Name eingeben)\n",
    "    Hallo (Name)! Schön dich kennenzulernen."
   ]
  },
  {
   "cell_type": "code",
   "execution_count": null,
   "metadata": {},
   "outputs": [],
   "source": [
    "### Lösung hier ###\n",
    "\n",
    "### Lösung hier ###"
   ]
  },
  {
   "cell_type": "markdown",
   "metadata": {},
   "source": [
    "## Aufgabe 3 (+)\n",
    "Gebe von jedem der folgenden Strings den dritten Buchstaben aus. Gebe anschließend einen String aus, der alle dritten Buchstaben beinhaltet, z.b. \"Peter\", \"Ulrich\", \"Frank\", \"Günther\" --> 't', 'r', 'a', 'n' --> \"tran\""
   ]
  },
  {
   "cell_type": "code",
   "execution_count": 7,
   "metadata": {},
   "outputs": [],
   "source": [
    "name1 = \"Frank\"\n",
    "name2 = \"André\"\n",
    "name3 = \"Ana\"\n",
    "name4 = \"Emma\"\n",
    "\n",
    "#### Lösung hier ####\n",
    "\n",
    "#### Lösung hier ####"
   ]
  },
  {
   "cell_type": "markdown",
   "metadata": {},
   "source": [
    "## Aufgabe 4 (++)\n",
    "Versuche erneut den kombinierten String (\"adam\") auszugeben. Diesmal darfst du aber maximal zwei Zeilen schreiben (Himweis: Hier müsst ihr eine for - Schleife benutzen. Außerdem werdet ihr ein zusätzliches Argument in der print-Funktion setzen müssen)"
   ]
  },
  {
   "cell_type": "code",
   "execution_count": 11,
   "metadata": {},
   "outputs": [],
   "source": [
    "names = [name1, name2, name3, name4]\n",
    "\n",
    "#### Lösung hier ####\n",
    "\n",
    "#### Lösugn hier ####"
   ]
  },
  {
   "cell_type": "markdown",
   "id": "a06e24de",
   "metadata": {},
   "source": [
    "## Aufgabe ? (+++)\n",
    "Schreibe eine Funktion, die zwei Strings __str1__ und __str2__ in der Mitte spaltet und zu einem fusioniert"
   ]
  },
  {
   "cell_type": "code",
   "execution_count": null,
   "id": "db50644f",
   "metadata": {},
   "outputs": [],
   "source": [
    "def stringFusion(str1, str2):\n",
    "    ### lÖSUNG ###\n",
    "    \n",
    "    ### LÖSUNG ###"
   ]
  },
  {
   "cell_type": "code",
   "execution_count": null,
   "id": "5ca2bad1",
   "metadata": {},
   "outputs": [],
   "source": [
    "print(stringFusion(\"Angela\", \"Merkel\"))\n",
    "print(stringFusion(stringFusion(\"Heavy\", \"Harald\"), stringFusion(\"Killer\", \"Kevin\")))"
   ]
  },
  {
   "cell_type": "markdown",
   "id": "aed72eb7",
   "metadata": {},
   "source": [
    "## Aufgabe ? (+++)\n",
    "Ein Alltagsbeispiel aus dem GP: 20 Leute stoppen Gleichzeitig die Fallzeit einer Kugel. Ziel ist es aus diesen Werten den __Mittelwert__ und die __Standardabweichung__ zu berechnen. Zur erinnerung:\n",
    "\n",
    "\\begin{align}\n",
    "\\langle{x}\\rangle   &= \\frac{1}{n}\\sum_ix_i\\\\\n",
    "\\Delta{x} &= \\sqrt{\\frac{1}{n-1}\\sum_i(\\langle{x}\\rangle-x_i)^2}\n",
    "\\end{align}"
   ]
  },
  {
   "cell_type": "code",
   "execution_count": null,
   "metadata": {},
   "outputs": [],
   "source": [
    "import numpy as np"
   ]
  },
  {
   "cell_type": "code",
   "execution_count": null,
   "id": "c3a79072",
   "metadata": {
    "scrolled": true
   },
   "outputs": [],
   "source": [
    "data = np.array([9.9 + np.random.rand()*0.2 for i in range(20)])\n",
    "print(data)"
   ]
  },
  {
   "cell_type": "code",
   "execution_count": null,
   "metadata": {},
   "outputs": [],
   "source": [
    "#### Lösung hier ####\n",
    "\n",
    "#### Lösung hier ####"
   ]
  },
  {
   "cell_type": "markdown",
   "id": "d2f8bbd5",
   "metadata": {},
   "source": [
    "## Aufgabe ? (+++++)\n",
    "In dieser Aufgabe sollt ihr einen Bruteforce Passwort-Knacker erstellen. Es wird dazu angenommen, dass das Passwort nur aus Kleinbuchstaben besteht. Dazu müsst ihr in einer Schleife alle möglichen Kombinationen durchgehen, biss ihr sie gefunden habt.\n",
    "\n",
    "_Hinweis_: Ihr dürft annehmen, dass das Passwort nicht mehr als 4 Buchstaben hat. Denn wenn das Alphabet 26 Buchstaben hat, dann skaliert die Zeit für eine Brutforcerechnung mit $26^N$. Bei 4 Buchstaben benötigt meine Lösung ca. 3 Sekunden. 5 Buchstaben würden also mehr als eine Minute kosten. 6 Buchstaben schon fast eine halbe Stunde. Wenn ihr nicht so lange warten wollt um herauszufinden ob da Passwort korrekt ist, dann belast es bei 4 Buchstaben."
   ]
  },
  {
   "cell_type": "code",
   "execution_count": null,
   "id": "fbe105f5",
   "metadata": {},
   "outputs": [],
   "source": [
    "letters = \"abcdefghijklmnopqrstuvwxyz\"\n",
    "\n",
    "password = \"pups\"\n",
    "def checkPass(attempt):\n",
    "    return attempt == password\n",
    "\n",
    "### LÖSUNG HIER ###\n",
    "\n",
    "### LÖSUNG HIER ###"
   ]
  },
  {
   "cell_type": "markdown",
   "id": "99c95809",
   "metadata": {},
   "source": [
    "## Aufgabe ? (+++++)\n",
    "Schreibe eine Funktion, die ein einzelnes Teilchen in einem Potential der Form $V(x) = |x|^a$ mit $a \\geq 1$ simuliert. Als parameter soll die Funktion die Potenz __a__ nehmen, die Gesamtzeit der Simulation __time__, die Startposition __x0__, sowie den Zeitschritt __dt__. Zurückgeben soll die Funktion einen Array, der die Trajektorie des Teilchens im Phasenraum beinhaltet. Beispiel:\n",
    "\n",
    "[ [x0, v0], [x1, v1], [x2, v2], ...]\n",
    "\n",
    "hierbei sind xi und vi der i-te Ort und die i-te Geschwindigkeit des Teilchens.\n",
    "\n",
    "_Hinweis_: Die Funktion __simulate(a, time, x0, dt)__ sollte grob etwa wie folgt aussehen:\n",
    "\n",
    "    1. Definiere den Array traj, der die Trajektorie speichern soll\n",
    "    2. In einer Schleife wird in jedem durchlauf die Kraft (abhängig vom _momentanen_ Ort und Geschwindigkeit) berechnet.\n",
    "       Dann gilt in der diskreten Version der Newtonschen Gleichungen $dv = F*dt$ und $dx = dt*v$\n",
    "    3. Bei der Berechnung der Kraft müsst ihr auf das Vorzeichen von x achten. Den Absolutwert einer Zahl erhaltet ihr \n",
    "       mittels np.abs(x) und das Vorzeichen mittels np.sign(x)\n",
    "       \n",
    "_Bonus_: Füge einen Reibungsterm in deiner Kraft hinzu und schau was passiert."
   ]
  },
  {
   "cell_type": "code",
   "execution_count": null,
   "id": "78c72b6c",
   "metadata": {},
   "outputs": [],
   "source": [
    "def simulate(a, time, x0, dt, fric = 0.0):\n",
    "    traj = []\n",
    "    \n",
    "    ### HIER LÖSUNG ###\n",
    "    \n",
    "    ### HIER LÖSUNG ###\n",
    "        \n",
    "    return traj"
   ]
  },
  {
   "cell_type": "code",
   "execution_count": null,
   "id": "36aa72ab",
   "metadata": {},
   "outputs": [],
   "source": [
    "### NICHT ANFASSEN ###\n",
    "plt.figure(figsize = (5,5))\n",
    "data2 = np.array(simulate(2, 10, 1, 0.01))\n",
    "data4 = np.array(simulate(4, 10, 1, 0.01))\n",
    "data10 = np.array(simulate(10, 10, 1, 0.01))\n",
    "plt.plot(data2[1:,0], data2[1:,1], label = \"a = 2\")\n",
    "plt.plot(data4[1:,0], data4[1:,1], label = \"a = 4\")\n",
    "plt.plot(data10[1:,0], data10[1:,1], label = \"a = 10\")\n",
    "plt.legend()\n",
    "plt.show()\n",
    "\n",
    "plt.figure(figsize = (5,5))\n",
    "data_fric = np.array(simulate(2, 10, 1, 0.01, fric = 0.1))\n",
    "plt.plot(data_fric[1:,0], data_fric[1:,1])\n",
    "### NICHT ANFASSEN ###"
   ]
  }
 ],
 "metadata": {
  "interpreter": {
   "hash": "b14fc47abcdbddb83932729163b225e5257b857deb6c2501cb351c70e64caa6f"
  },
  "kernelspec": {
   "display_name": "Python 3.8.8 ('base')",
   "language": "python",
   "name": "python3"
  },
  "language_info": {
   "codemirror_mode": {
    "name": "ipython",
    "version": 3
   },
   "file_extension": ".py",
   "mimetype": "text/x-python",
   "name": "python",
   "nbconvert_exporter": "python",
   "pygments_lexer": "ipython3",
   "version": "3.8.8"
  },
  "orig_nbformat": 4
 },
 "nbformat": 4,
 "nbformat_minor": 2
}
